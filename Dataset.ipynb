{
  "nbformat": 4,
  "nbformat_minor": 0,
  "metadata": {
    "colab": {
      "provenance": [],
      "authorship_tag": "ABX9TyPKvMEpm/wF+AYb4hiG0bDL",
      "include_colab_link": true
    },
    "kernelspec": {
      "name": "python3",
      "display_name": "Python 3"
    },
    "language_info": {
      "name": "python"
    }
  },
  "cells": [
    {
      "cell_type": "markdown",
      "metadata": {
        "id": "view-in-github",
        "colab_type": "text"
      },
      "source": [
        "<a href=\"https://colab.research.google.com/github/soundarya1024/Healthcareprediction/blob/main/Dataset.ipynb\" target=\"_parent\"><img src=\"https://colab.research.google.com/assets/colab-badge.svg\" alt=\"Open In Colab\"/></a>"
      ]
    },
    {
      "cell_type": "markdown",
      "source": [
        "This line imports the pandas library, which is used in Python to work with data — like tables or spreadsheets:"
      ],
      "metadata": {
        "id": "XmYWWkkvRamO"
      }
    },
    {
      "cell_type": "code",
      "source": [
        "import pandas as pd"
      ],
      "metadata": {
        "id": "qhQkPqu-SI2M"
      },
      "execution_count": 3,
      "outputs": []
    },
    {
      "cell_type": "markdown",
      "source": [
        "This line creates a simple table (called a DataFrame) with  columns,This is just sample data. You can change it to your own data later:"
      ],
      "metadata": {
        "id": "Pj_W2WlCStNf"
      }
    },
    {
      "cell_type": "code",
      "source": [
        "import pandas as pd\n",
        "import random\n",
        "import numpy as np\n",
        "\n",
        "# Number of records to generate\n",
        "num_records = 200\n",
        "\n",
        "# Arrays with possible values\n",
        "genders = ['Male', 'Female', 'Other']\n",
        "ever_married_status = ['Yes', 'No']\n",
        "work_types = ['Private', 'Self-employed', 'Govt_job', 'children', 'Never_worked']\n",
        "residence_types = ['Urban', 'Rural']\n",
        "smoking_statuses = ['never smoked', 'formerly smoked', 'smokes', 'Unknown']\n",
        "\n",
        "# Initialize empty lists for each column\n",
        "ids = []\n",
        "genders_list = []\n",
        "hypertension_list = []\n",
        "heart_disease_list = []\n",
        "ever_married_list = []\n",
        "work_type_list = []\n",
        "residence_type_list = []\n",
        "avg_glucose_level_list = []\n",
        "bmi_list = []\n",
        "smoking_status_list = []\n",
        "stroke_list = []\n",
        "\n",
        "# Generate synthetic data\n",
        "for i in range(num_records):\n",
        "    ids.append(1000 + i)\n",
        "    genders_list.append(random.choice(genders))\n",
        "    hypertension_list.append(random.randint(0, 1))\n",
        "    heart_disease_list.append(random.randint(0, 1))\n",
        "    ever_married_list.append(random.choice(ever_married_status))\n",
        "    work_type_list.append(random.choice(work_types))\n",
        "    residence_type_list.append(random.choice(residence_types))\n",
        "    avg_glucose_level_list.append(round(random.uniform(70.0, 250.0), 2))\n",
        "    bmi_list.append(round(random.uniform(18.5, 40.0), 1))\n",
        "    smoking_status_list.append(random.choice(smoking_statuses))\n",
        "\n",
        "    # Stroke: simulate based on risk factors (not real logic, just random + condition)\n",
        "    stroke_risk = hypertension_list[-1] + heart_disease_list[-1]\n",
        "    stroke_chance = random.random()\n",
        "    if stroke_risk >= 2 and stroke_chance > 0.3:\n",
        "        stroke_list.append(1)\n",
        "    elif stroke_risk == 1 and stroke_chance > 0.7:\n",
        "        stroke_list.append(1)\n",
        "    else:\n",
        "        stroke_list.append(0)\n",
        "\n",
        "# Combine into a DataFrame\n",
        "data = {\n",
        "    'id': ids,\n",
        "    'gender': genders_list,\n",
        "    'hypertension': hypertension_list,\n",
        "    'heart_disease': heart_disease_list,\n",
        "    'ever_married': ever_married_list,\n",
        "    'work_type': work_type_list,\n",
        "    'residence_type': residence_type_list,\n",
        "    'avg_glucose_level': avg_glucose_level_list,\n",
        "    'bmi': bmi_list,\n",
        "    'smoking_status': smoking_status_list,\n",
        "    'stroke': stroke_list\n",
        "}\n",
        "\n",
        "df = pd.DataFrame(data)\n",
        "\n",
        "# Show the first few rows\n",
        "print(df.head())\n",
        "\n",
        "# Optionally, save to Excel\n",
        "df.to_excel(\"dataset2.xlsx\", index=False)\n",
        "\n",
        "from google.colab import files\n",
        "files.download(\"dataset2.xlsx\")"
      ],
      "metadata": {
        "colab": {
          "base_uri": "https://localhost:8080/",
          "height": 253
        },
        "id": "t_3PSgpFiKPT",
        "outputId": "2fb66b26-8153-4388-c004-8ef39ce9bdce"
      },
      "execution_count": 13,
      "outputs": [
        {
          "output_type": "stream",
          "name": "stdout",
          "text": [
            "     id  gender  hypertension  heart_disease ever_married      work_type  \\\n",
            "0  1000   Other             1              0           No       children   \n",
            "1  1001    Male             0              0           No       Govt_job   \n",
            "2  1002   Other             1              0           No  Self-employed   \n",
            "3  1003    Male             0              0           No       children   \n",
            "4  1004  Female             0              1          Yes       Govt_job   \n",
            "\n",
            "  residence_type  avg_glucose_level   bmi   smoking_status  stroke  \n",
            "0          Rural             220.79  28.4           smokes       0  \n",
            "1          Rural             167.57  36.7  formerly smoked       0  \n",
            "2          Urban             113.25  19.5  formerly smoked       0  \n",
            "3          Urban              93.14  20.1  formerly smoked       0  \n",
            "4          Rural              88.66  36.4  formerly smoked       1  \n"
          ]
        },
        {
          "output_type": "display_data",
          "data": {
            "text/plain": [
              "<IPython.core.display.Javascript object>"
            ],
            "application/javascript": [
              "\n",
              "    async function download(id, filename, size) {\n",
              "      if (!google.colab.kernel.accessAllowed) {\n",
              "        return;\n",
              "      }\n",
              "      const div = document.createElement('div');\n",
              "      const label = document.createElement('label');\n",
              "      label.textContent = `Downloading \"${filename}\": `;\n",
              "      div.appendChild(label);\n",
              "      const progress = document.createElement('progress');\n",
              "      progress.max = size;\n",
              "      div.appendChild(progress);\n",
              "      document.body.appendChild(div);\n",
              "\n",
              "      const buffers = [];\n",
              "      let downloaded = 0;\n",
              "\n",
              "      const channel = await google.colab.kernel.comms.open(id);\n",
              "      // Send a message to notify the kernel that we're ready.\n",
              "      channel.send({})\n",
              "\n",
              "      for await (const message of channel.messages) {\n",
              "        // Send a message to notify the kernel that we're ready.\n",
              "        channel.send({})\n",
              "        if (message.buffers) {\n",
              "          for (const buffer of message.buffers) {\n",
              "            buffers.push(buffer);\n",
              "            downloaded += buffer.byteLength;\n",
              "            progress.value = downloaded;\n",
              "          }\n",
              "        }\n",
              "      }\n",
              "      const blob = new Blob(buffers, {type: 'application/binary'});\n",
              "      const a = document.createElement('a');\n",
              "      a.href = window.URL.createObjectURL(blob);\n",
              "      a.download = filename;\n",
              "      div.appendChild(a);\n",
              "      a.click();\n",
              "      div.remove();\n",
              "    }\n",
              "  "
            ]
          },
          "metadata": {}
        },
        {
          "output_type": "display_data",
          "data": {
            "text/plain": [
              "<IPython.core.display.Javascript object>"
            ],
            "application/javascript": [
              "download(\"download_e64a242b-e380-4ea2-9d65-c0ffcbbc5642\", \"dataset2.xlsx\", 15259)"
            ]
          },
          "metadata": {}
        }
      ]
    },
    {
      "cell_type": "markdown",
      "source": [
        "This line saves the DataFrame to an Excel file called my_data.xlsx in Colab's temporary storage,After this step, the file my_data.xlsx is created inside Colab, but you don’t have it on your computer yet."
      ],
      "metadata": {
        "id": "FMDp2YkwTKhR"
      }
    }
  ]
}